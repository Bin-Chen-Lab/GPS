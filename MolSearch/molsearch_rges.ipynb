{
 "cells": [
  {
   "cell_type": "code",
   "execution_count": null,
   "metadata": {},
   "outputs": [],
   "source": [
    "import pandas as pd\n",
    "import numpy as np\n",
    "import pickle\n",
    "\n",
    "# input should be BGRD__signame.pkl (found in GPS4Drugs/data/dzsig) and DZSIG__signame.csv from GPS\n",
    "# results in the rges_input folder to be used as inputs for RGES score module in MolSearch (rges.py)"
   ]
  },
  {
   "cell_type": "code",
   "execution_count": null,
   "metadata": {},
   "outputs": [],
   "source": [
    "# replace with your signature name\n",
    "sig_name = 'Myofibroblasts'\n",
    "\n",
    "with open(f'/MolSearch/demo/BGRD__{sig_name}.pkl', 'rb') as f:\n",
    "    bgrd = pickle.load(f, encoding='latin1')\n",
    "bgrd.to_csv(f'/MolSearch/rges_input/BGRD__{sig_name}.csv')"
   ]
  },
  {
   "cell_type": "code",
   "execution_count": null,
   "metadata": {},
   "outputs": [],
   "source": [
    "dfs = pd.read_csv(f'/MolSearch/demo/DZSIG__{sig_name}.csv', index_col=0)\n",
    "dfs = dfs.rename_axis('Symbol')\n",
    "dfs.to_csv(f'/MolSearch/rges_input/DZSIG__{sig_name}.csv')\n",
    "\n",
    "df1 = pd.read_csv('/MolSearch/demo/go_fingerprints_2k_HEPG2_t0.csv', index_col=0)\n",
    "df2 = pd.read_csv('/MolSearch/demo/go_fingerprints_2k_MCF7_t1.csv', index_col=0)\n",
    "df3 = pd.read_csv('/MolSearch/demo/go_fingerprints_2k_PC3_t1.csv', index_col=0)\n",
    "df4 = pd.read_csv('/MolSearch/demo/go_fingerprints_2k_VCAP_t1.csv', index_col=0)"
   ]
  },
  {
   "cell_type": "code",
   "execution_count": null,
   "metadata": {},
   "outputs": [
    {
     "name": "stdout",
     "output_type": "stream",
     "text": [
      "56\n"
     ]
    }
   ],
   "source": [
    "genes_common = list(set(list(set(dfs.index) & set(df1.index)) + list(set(dfs.index) & set(df2.index)) + list(set(dfs.index) & set(df3.index)) + list(set(dfs.index) & set(df4.index))))\n",
    "\n",
    "print(len(genes_common))\n",
    "\n",
    "if len(df1.columns) == len(df2.columns) == len(df3.columns) == len(df4.columns):\n",
    "    final_df = pd.concat([df1, df2, df3, df4], axis=0).loc[genes_common].groupby(level=0).max().sort_index()\n",
    "    final_df.to_csv(f'/MolSearch/rges_input/{sig_name}_gene_feature.csv')\n",
    "\n",
    "    fdf = pd.concat([df1, df2, df3, df4], axis=1).loc[genes_common].sort_index()\n",
    "\n",
    "    list_for_pickling = []\n",
    "    for n in range(4):\n",
    "        cellline_df = fdf.T[len(df1.columns)*n:len(df1.columns)*(n+1)].T\n",
    "        na_df = cellline_df[cellline_df[cellline_df.columns[0]].isna()]\n",
    "        list_for_pickling.append(list(np.where(fdf.index.isin(na_df.index))[0]))\n",
    "\n",
    "    with open(f'/MolSearch/rges_input/NA_IDX_{sig_name}.pkl','wb') as f:\n",
    "        pickle.dump(list_for_pickling, f)\n",
    "else:\n",
    "    print('Wrong cellline files!!!')"
   ]
  },
  {
   "cell_type": "code",
   "execution_count": null,
   "metadata": {},
   "outputs": [],
   "source": []
  }
 ],
 "metadata": {
  "kernelspec": {
   "display_name": "base",
   "language": "python",
   "name": "python3"
  },
  "language_info": {
   "codemirror_mode": {
    "name": "ipython",
    "version": 3
   },
   "file_extension": ".py",
   "mimetype": "text/x-python",
   "name": "python",
   "nbconvert_exporter": "python",
   "pygments_lexer": "ipython3",
   "version": "3.12.9"
  }
 },
 "nbformat": 4,
 "nbformat_minor": 2
}
